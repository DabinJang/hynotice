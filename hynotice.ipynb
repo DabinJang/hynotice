{
 "cells": [
  {
   "cell_type": "code",
   "execution_count": 1,
   "id": "6184aed8-f165-42aa-808a-ceb6611d3dcc",
   "metadata": {},
   "outputs": [],
   "source": [
    "import time\n",
    "import sys"
   ]
  },
  {
   "cell_type": "code",
   "execution_count": 2,
   "id": "5d53dedb-eece-4cd4-b701-f506b40ef479",
   "metadata": {},
   "outputs": [],
   "source": [
    " from selenium.webdriver import ActionChains\n",
    "from selenium.webdriver.common.keys import Keys\n",
    "from selenium.webdriver.common.by import By\n",
    "from selenium.webdriver.support.ui import WebDriverWait\n",
    "from selenium.webdriver.support import expected_conditions as EC"
   ]
  },
  {
   "cell_type": "code",
   "execution_count": 3,
   "id": "08acd162-7eff-4397-9612-c082acf96517",
   "metadata": {},
   "outputs": [],
   "source": [
    "LOGIN_URL = \"https://portal.hanyang.ac.kr/sso/lgin.do\""
   ]
  },
  {
   "cell_type": "code",
   "execution_count": 4,
   "id": "514d9312-43a8-4937-b9d0-00a18eac1efa",
   "metadata": {},
   "outputs": [],
   "source": [
    "user_keywards = [\"장학\"]"
   ]
  },
  {
   "cell_type": "code",
   "execution_count": 5,
   "id": "7e976ea5-138e-4462-9394-0ca5d85ec691",
   "metadata": {},
   "outputs": [],
   "source": [
    "keywards = user_keywards"
   ]
  },
  {
   "cell_type": "code",
   "execution_count": 10,
   "id": "dec6eb83-e0cb-43ea-815c-51cacdd3c05b",
   "metadata": {},
   "outputs": [],
   "source": [
    "userdata = open(\"userdata.txt\", 'r')\n",
    "userId = userdata.readline()\n",
    "password = userdata.readline()    "
   ]
  },
  {
   "cell_type": "code",
   "execution_count": 7,
   "id": "c7c24c17-1220-4c75-af11-c114858a327b",
   "metadata": {},
   "outputs": [],
   "source": [
    "driver = webdriver.Chrome()"
   ]
  },
  {
   "cell_type": "code",
   "execution_count": 8,
   "id": "c88552b0-0f8a-4a14-a44a-61e3318868f7",
   "metadata": {},
   "outputs": [],
   "source": [
    "driver.get(LOGIN_URL)"
   ]
  },
  {
   "cell_type": "code",
   "execution_count": 11,
   "id": "edbb9ccc-959a-4bfe-b00b-5edd8442bbca",
   "metadata": {},
   "outputs": [],
   "source": [
    "driver.find_element(By.NAME, \"userId\").clear()\n",
    "driver.find_element(By.NAME, \"userId\").send_keys(userId)\n",
    "\n",
    "driver.find_element(By.NAME, \"password\").clear()\n",
    "driver.find_element(By.NAME, \"password\").send_keys(password)"
   ]
  },
  {
   "cell_type": "code",
   "execution_count": 12,
   "id": "c3e6a14e-756f-4720-977b-c9269878fbf3",
   "metadata": {},
   "outputs": [],
   "source": [
    "driver.find_element(By.PARTIAL_LINK_TEXT, \"로그인\").click()"
   ]
  },
  {
   "cell_type": "code",
   "execution_count": 13,
   "id": "bd75201a-0024-41a8-ad8c-ae1ae54b5359",
   "metadata": {},
   "outputs": [],
   "source": [
    "driver.find_element(By.ID, \"btn_cancel\").click()"
   ]
  },
  {
   "cell_type": "code",
   "execution_count": 14,
   "id": "61bf2457-67b7-4de2-97ff-7fbccbb51934",
   "metadata": {},
   "outputs": [],
   "source": [
    "try:\n",
    "    driver.switch_to.alert.dismiss() \n",
    "except:\n",
    "    pass"
   ]
  },
  {
   "cell_type": "code",
   "execution_count": 15,
   "id": "eee7d8c4-8c02-4a60-8314-4269a95f50ee",
   "metadata": {},
   "outputs": [],
   "source": [
    "more = driver.find_element(By.CLASS_NAME, 'more').click()"
   ]
  },
  {
   "cell_type": "code",
   "execution_count": 16,
   "id": "fe0b54aa-9822-451b-877c-f960f7f802d4",
   "metadata": {},
   "outputs": [],
   "source": [
    "driver.find_element(By.ID, \"btn_seoul\").click()"
   ]
  },
  {
   "cell_type": "code",
   "execution_count": 27,
   "id": "90ee2df7-1866-42a2-8348-093a6a8b1b25",
   "metadata": {},
   "outputs": [],
   "source": [
    "tm = time.localtime()\n",
    "today = \"{:04}.{:02}.{:02}\".format(tm.tm_year, tm.tm_mon, tm.tm_mday)\n",
    "\n",
    "today_notices_xpath = '//*[@id=\"mainGrid\"]/tbody/tr/td[1]/span[@id=\"title\"]' \\\n",
    "                     f'[../../td[@id=\"insertDate\"][contains(text(),\"{today}\")]]'\n",
    "\n",
    "page_xpath = [\"\"]\n",
    "for i in range(2,12):\n",
    "    page_xpath.append(f'//*[@id=\"pagingPanel\"]/span[{i}]/a[1]')\n",
    "    \n",
    "notices = list()"
   ]
  },
  {
   "cell_type": "code",
   "execution_count": 28,
   "id": "52e543af-dce4-4fd2-a50d-cd14b6eee7b6",
   "metadata": {},
   "outputs": [
    {
     "name": "stdout",
     "output_type": "stream",
     "text": [
      "오늘 올라온 공지는 7개 입니다.\n"
     ]
    }
   ],
   "source": [
    "for i in range(2, 11):\n",
    "    today_notices_in_this_page = driver.find_elements(By.XPATH, today_notices_xpath)\n",
    "    notices.extend(today_notices_in_this_page)\n",
    "    if len(today_notices_in_this_page) <10:\n",
    "        print(f\"오늘 올라온 공지는 {len(notices)}개 입니다.\")\n",
    "        break\n",
    "    driver.find_element(By.XPATH, page[i]).click()"
   ]
  },
  {
   "cell_type": "code",
   "execution_count": 30,
   "id": "00b763d9-099b-445c-8390-4511040e3a5f",
   "metadata": {},
   "outputs": [
    {
     "name": "stdout",
     "output_type": "stream",
     "text": [
      "[한국부동산원] 오픈채팅 채용설명회 안내\n",
      "[한국지능정보사회진흥원] 2023년 디지털정부 Young Frontier 과정 교육생 모집 안내\n",
      "[ERICA 과학기술융합대학] 기초과학교육센터 계약직원 모집(~8/7/월)\n",
      "[교육부]2023 대한민국 인재상 선발 안내\n",
      "[학문후속세대지원센터] 4단계 BK21사업 프로젝트 계약직원 채용 공고\n",
      "[과학기술정보통신부/한국데이터산업협회] 2023년도 데이터 산업진흥 유공 정부포상 후보자 추천 요청 안내\n",
      "[월간 비교과] 4단계 BK21 대학원혁신지원사업 2023년 8월 비교과 프로그램 안내\n"
     ]
    }
   ],
   "source": [
    "print(*[notice.text for notice in notices], sep='\\n')"
   ]
  },
  {
   "cell_type": "code",
   "execution_count": 31,
   "id": "828d71a0-e269-4b31-b996-5ead43e4ea40",
   "metadata": {},
   "outputs": [],
   "source": [
    "driver.quit()"
   ]
  }
 ],
 "metadata": {
  "kernelspec": {
   "display_name": "Python 3 (ipykernel)",
   "language": "python",
   "name": "python3"
  },
  "language_info": {
   "codemirror_mode": {
    "name": "ipython",
    "version": 3
   },
   "file_extension": ".py",
   "mimetype": "text/x-python",
   "name": "python",
   "nbconvert_exporter": "python",
   "pygments_lexer": "ipython3",
   "version": "3.8.11"
  }
 },
 "nbformat": 4,
 "nbformat_minor": 5
}
