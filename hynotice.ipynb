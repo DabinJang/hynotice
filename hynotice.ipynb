{
 "cells": [
  {
   "cell_type": "code",
   "execution_count": 1,
   "id": "6184aed8-f165-42aa-808a-ceb6611d3dcc",
   "metadata": {},
   "outputs": [],
   "source": [
    "import time\n",
    "from selenium import webdriver\n",
    "from selenium.webdriver import ActionChains\n",
    "from selenium.webdriver.common.keys import Keys\n",
    "from selenium.webdriver.common.by import By\n",
    "from selenium.webdriver.support.ui import WebDriverWait\n",
    "from selenium.webdriver.support import expected_conditions as EC"
   ]
  },
  {
   "cell_type": "code",
   "execution_count": 2,
   "id": "f3c8db33-5dec-4567-977d-dc753d280b0f",
   "metadata": {},
   "outputs": [],
   "source": [
    "class User:\n",
    "    def __init__(self, path:str):\n",
    "        if not path:\n",
    "            self.id = \"\"\n",
    "            self.password = \"\"\n",
    "            self.keywords = []\n",
    "            \n",
    "        else:\n",
    "            self.load_data(path)\n",
    "            \n",
    "    def load_data(self, path:str):\n",
    "        data = open(path, 'r')\n",
    "        self.id = data.readline()\n",
    "        self.password = data.readline()\n",
    "        self.keywords = list(data.readline().split())"
   ]
  },
  {
   "cell_type": "code",
   "execution_count": 3,
   "id": "5d53dedb-eece-4cd4-b701-f506b40ef479",
   "metadata": {},
   "outputs": [],
   "source": [
    "options = webdriver.ChromeOptions() # Browser 세팅하기\n",
    "options.add_argument('lang=ko_KR') # 사용언어 한국어\n",
    "options.add_argument('disable-gpu') # 하드웨어 가속 안함\n",
    "#options.add_argument('headless') # 창 숨기기\n",
    "\n",
    "url = \"https://portal.hanyang.ac.kr/sso/lgin.do\"\n",
    "user_data_path = \"userdata.txt\"\n",
    "\n",
    "tm = time.localtime()\n",
    "today = \"{:04}.{:02}.{:02}\".format(tm.tm_year, tm.tm_mon, tm.tm_mday)"
   ]
  },
  {
   "cell_type": "code",
   "execution_count": 4,
   "id": "af396a3d-bddb-4d71-b449-2667d572af29",
   "metadata": {},
   "outputs": [
    {
     "data": {
      "text/plain": [
       "'2023.08.03'"
      ]
     },
     "execution_count": 4,
     "metadata": {},
     "output_type": "execute_result"
    }
   ],
   "source": [
    "today"
   ]
  },
  {
   "cell_type": "code",
   "execution_count": 5,
   "id": "08acd162-7eff-4397-9612-c082acf96517",
   "metadata": {},
   "outputs": [],
   "source": [
    "user = User(user_data_path)"
   ]
  },
  {
   "cell_type": "code",
   "execution_count": 6,
   "id": "5aa3a0ad-48dc-4f0a-a2a1-088f8476b26e",
   "metadata": {},
   "outputs": [],
   "source": [
    "driver = webdriver.Chrome(options=options)\n",
    "driver.get(url)"
   ]
  },
  {
   "cell_type": "code",
   "execution_count": 7,
   "id": "514d9312-43a8-4937-b9d0-00a18eac1efa",
   "metadata": {},
   "outputs": [],
   "source": [
    "driver.find_element(By.NAME, \"userId\").clear()\n",
    "driver.find_element(By.NAME, \"userId\").send_keys(user.id)\n",
    "\n",
    "driver.find_element(By.NAME, \"password\").clear()\n",
    "driver.find_element(By.NAME, \"password\").send_keys(user.password)\n",
    "\n",
    "try:\n",
    "    driver.find_element(By.PARTIAL_LINK_TEXT, \"로그인\").click()\n",
    "except:\n",
    "    pass"
   ]
  },
  {
   "cell_type": "code",
   "execution_count": 8,
   "id": "c3e6a14e-756f-4720-977b-c9269878fbf3",
   "metadata": {},
   "outputs": [],
   "source": [
    "driver.find_element(By.ID, \"btn_cancel\").click()"
   ]
  },
  {
   "cell_type": "code",
   "execution_count": 9,
   "id": "bd75201a-0024-41a8-ad8c-ae1ae54b5359",
   "metadata": {},
   "outputs": [],
   "source": [
    "try:\n",
    "    WebDriverWait(driver, 5).until(EC.alert_is_present())\n",
    "    driver.switch_to.alert.dismiss() \n",
    "except:\n",
    "    pass"
   ]
  },
  {
   "cell_type": "code",
   "execution_count": 10,
   "id": "eee7d8c4-8c02-4a60-8314-4269a95f50ee",
   "metadata": {},
   "outputs": [],
   "source": [
    "try:\n",
    "    driver.find_element(By.CLASS_NAME, 'more').click()\n",
    "except:\n",
    "    pass"
   ]
  },
  {
   "cell_type": "code",
   "execution_count": 11,
   "id": "9fa52081-1f82-4542-86e1-387b63ec6736",
   "metadata": {},
   "outputs": [],
   "source": [
    "try:\n",
    "    WebDriverWait(driver, 10).until(EC.element_to_be_clickable((By.ID, \"btn_seoul\")))\n",
    "    driver.find_element(By.ID, \"btn_seoul\").click()\n",
    "except:\n",
    "    print(\"서울캠퍼스 공지 클릭 불가\")"
   ]
  },
  {
   "cell_type": "code",
   "execution_count": 19,
   "id": "90ee2df7-1866-42a2-8348-093a6a8b1b25",
   "metadata": {},
   "outputs": [],
   "source": [
    "today_notices_xpath = f'//td[contains(text(), \"{today}\")]/preceding-sibling::td/span[@id=\"title\"]'\n",
    "\n",
    "page_xpath = [\"\"] + [f'//*[@id=\"pagingPanel\"]/span[{i}]/a[1]' for i in range(2, 12)]"
   ]
  },
  {
   "cell_type": "code",
   "execution_count": 16,
   "id": "3602ddb6-ebf2-497c-8040-198b00157c2c",
   "metadata": {},
   "outputs": [],
   "source": [
    "try:\n",
    "    WebDriverWait(driver, 5).until(EC.visibility_of_element_located((By.XPATH, '//*[@id=\"title\"]')))\n",
    "except:\n",
    "    pass"
   ]
  },
  {
   "cell_type": "code",
   "execution_count": 20,
   "id": "52e543af-dce4-4fd2-a50d-cd14b6eee7b6",
   "metadata": {},
   "outputs": [
    {
     "name": "stdout",
     "output_type": "stream",
     "text": [
      "오늘 올라온 공지는 7개 입니다.\n"
     ]
    }
   ],
   "source": [
    "notices = list()\n",
    "for i in range(2, 11):\n",
    "    today_notices_in_this_page = driver.find_elements(By.XPATH, today_notices_xpath)\n",
    "    notices.extend(today_notices_in_this_page)\n",
    "    if len(today_notices_in_this_page) <10:\n",
    "        print(f\"오늘 올라온 공지는 {len(notices)}개 입니다.\")\n",
    "        break\n",
    "    driver.find_element(By.XPATH, page[i]).click()"
   ]
  },
  {
   "cell_type": "code",
   "execution_count": 21,
   "id": "00b763d9-099b-445c-8390-4511040e3a5f",
   "metadata": {},
   "outputs": [
    {
     "name": "stdout",
     "output_type": "stream",
     "text": [
      "[한국국제문화교류진흥원] 캄보디아 예술교육 역량 강화 연수 운영 대행 용역 입찰 공고\n",
      "[DB손해보험] 대학생 서포터즈 DREAMER 12기 모집\n",
      "[WRITING CENTER] 2023학년도 2학기 대학원생 장학조교 모집 안내\n",
      "[성동구가족센터] 메타버스 심리상담 안내\n",
      "[교육혁신팀] e-러닝 강좌 운영 보조 장학조교 모집 (~08.15)\n",
      "[IC-PBL교수학습센터] 2023학년도 2학기 장학조교 모집 안내(3명) (~08/15)\n",
      "[서울 공학교육혁신센터] 2023학년도 2학기 교육조교 모집 안내(FABLAB)\n"
     ]
    }
   ],
   "source": [
    "print(*[notice.text for notice in notices], sep='\\n')"
   ]
  },
  {
   "cell_type": "code",
   "execution_count": 22,
   "id": "828d71a0-e269-4b31-b996-5ead43e4ea40",
   "metadata": {},
   "outputs": [],
   "source": [
    "driver.quit()"
   ]
  },
  {
   "cell_type": "code",
   "execution_count": null,
   "id": "9023ea2f-dd3c-4995-80bb-75728d846353",
   "metadata": {},
   "outputs": [],
   "source": []
  }
 ],
 "metadata": {
  "kernelspec": {
   "display_name": "Python 3 (ipykernel)",
   "language": "python",
   "name": "python3"
  },
  "language_info": {
   "codemirror_mode": {
    "name": "ipython",
    "version": 3
   },
   "file_extension": ".py",
   "mimetype": "text/x-python",
   "name": "python",
   "nbconvert_exporter": "python",
   "pygments_lexer": "ipython3",
   "version": "3.8.11"
  }
 },
 "nbformat": 4,
 "nbformat_minor": 5
}
